{
 "cells": [
  {
   "cell_type": "code",
   "execution_count": 1,
   "metadata": {},
   "outputs": [],
   "source": [
    "import numpy as np\n",
    "import pandas as pd"
   ]
  },
  {
   "cell_type": "code",
   "execution_count": 2,
   "metadata": {},
   "outputs": [],
   "source": [
    "df=pd.read_csv(r'C:\\Users\\yasharth.tandon\\Desktop\\Tiger\\imdb.csv',escapechar='\\\\')"
   ]
  },
  {
   "cell_type": "code",
   "execution_count": 3,
   "metadata": {},
   "outputs": [],
   "source": [
    "df['duration_deciles']=pd.cut(df['duration'],bins=10)"
   ]
  },
  {
   "cell_type": "code",
   "execution_count": 4,
   "metadata": {},
   "outputs": [],
   "source": [
    "df2=df.groupby(['duration_deciles']).agg({'nrOfWins':['sum'],'nrOfNominations':['sum'],'title':['count']})"
   ]
  },
  {
   "cell_type": "code",
   "execution_count": 5,
   "metadata": {},
   "outputs": [],
   "source": [
    "df2.columns=df2.columns.droplevel()"
   ]
  },
  {
   "cell_type": "code",
   "execution_count": 6,
   "metadata": {},
   "outputs": [],
   "source": [
    "df6=df.groupby(['duration_deciles'])[df.columns.to_list()[16:-1]].sum()"
   ]
  },
  {
   "cell_type": "code",
   "execution_count": 7,
   "metadata": {},
   "outputs": [],
   "source": [
    "df6 = pd.DataFrame(df6.columns.values[np.argsort(-df6.values, axis=1)[:, :3]], \n",
    "                  index=df6.index,\n",
    "                  columns = ['Top_1_genre','Top_2_genre','Top_3_genre']).reset_index()"
   ]
  },
  {
   "cell_type": "code",
   "execution_count": 8,
   "metadata": {},
   "outputs": [],
   "source": [
    "df6.set_index(['duration_deciles'],inplace=True)"
   ]
  },
  {
   "cell_type": "code",
   "execution_count": 9,
   "metadata": {},
   "outputs": [],
   "source": [
    "df7 = pd.concat([df2, df6], axis=1)"
   ]
  },
  {
   "cell_type": "code",
   "execution_count": 10,
   "metadata": {},
   "outputs": [
    {
     "data": {
      "text/html": [
       "<div>\n",
       "<style scoped>\n",
       "    .dataframe tbody tr th:only-of-type {\n",
       "        vertical-align: middle;\n",
       "    }\n",
       "\n",
       "    .dataframe tbody tr th {\n",
       "        vertical-align: top;\n",
       "    }\n",
       "\n",
       "    .dataframe thead th {\n",
       "        text-align: right;\n",
       "    }\n",
       "</style>\n",
       "<table border=\"1\" class=\"dataframe\">\n",
       "  <thead>\n",
       "    <tr style=\"text-align: right;\">\n",
       "      <th></th>\n",
       "      <th>sum</th>\n",
       "      <th>sum</th>\n",
       "      <th>count</th>\n",
       "      <th>Top_1_genre</th>\n",
       "      <th>Top_2_genre</th>\n",
       "      <th>Top_3_genre</th>\n",
       "    </tr>\n",
       "    <tr>\n",
       "      <th>duration_deciles</th>\n",
       "      <th></th>\n",
       "      <th></th>\n",
       "      <th></th>\n",
       "      <th></th>\n",
       "      <th></th>\n",
       "      <th></th>\n",
       "    </tr>\n",
       "  </thead>\n",
       "  <tbody>\n",
       "    <tr>\n",
       "      <th>(-66.398, 6841.8]</th>\n",
       "      <td>26294</td>\n",
       "      <td>42727</td>\n",
       "      <td>10813</td>\n",
       "      <td>Comedy</td>\n",
       "      <td>Drama</td>\n",
       "      <td>Crime</td>\n",
       "    </tr>\n",
       "    <tr>\n",
       "      <th>(6841.8, 13681.6]</th>\n",
       "      <td>18534</td>\n",
       "      <td>22864</td>\n",
       "      <td>2841</td>\n",
       "      <td>Drama</td>\n",
       "      <td>Action</td>\n",
       "      <td>Comedy</td>\n",
       "    </tr>\n",
       "    <tr>\n",
       "      <th>(13681.6, 20521.4]</th>\n",
       "      <td>196</td>\n",
       "      <td>191</td>\n",
       "      <td>51</td>\n",
       "      <td>Drama</td>\n",
       "      <td>History</td>\n",
       "      <td>Documentary</td>\n",
       "    </tr>\n",
       "    <tr>\n",
       "      <th>(20521.4, 27361.2]</th>\n",
       "      <td>74</td>\n",
       "      <td>84</td>\n",
       "      <td>23</td>\n",
       "      <td>Drama</td>\n",
       "      <td>History</td>\n",
       "      <td>Documentary</td>\n",
       "    </tr>\n",
       "    <tr>\n",
       "      <th>(27361.2, 34201.0]</th>\n",
       "      <td>56</td>\n",
       "      <td>50</td>\n",
       "      <td>7</td>\n",
       "      <td>Drama</td>\n",
       "      <td>History</td>\n",
       "      <td>Romance</td>\n",
       "    </tr>\n",
       "    <tr>\n",
       "      <th>(34201.0, 41040.8]</th>\n",
       "      <td>6</td>\n",
       "      <td>5</td>\n",
       "      <td>3</td>\n",
       "      <td>Drama</td>\n",
       "      <td>History</td>\n",
       "      <td>Thriller</td>\n",
       "    </tr>\n",
       "    <tr>\n",
       "      <th>(41040.8, 47880.6]</th>\n",
       "      <td>22</td>\n",
       "      <td>20</td>\n",
       "      <td>4</td>\n",
       "      <td>History</td>\n",
       "      <td>Drama</td>\n",
       "      <td>Documentary</td>\n",
       "    </tr>\n",
       "    <tr>\n",
       "      <th>(47880.6, 54720.4]</th>\n",
       "      <td>12</td>\n",
       "      <td>19</td>\n",
       "      <td>2</td>\n",
       "      <td>Drama</td>\n",
       "      <td>SciFi</td>\n",
       "      <td>Action</td>\n",
       "    </tr>\n",
       "    <tr>\n",
       "      <th>(54720.4, 61560.2]</th>\n",
       "      <td>0</td>\n",
       "      <td>0</td>\n",
       "      <td>0</td>\n",
       "      <td>Action</td>\n",
       "      <td>Thriller</td>\n",
       "      <td>TalkShow</td>\n",
       "    </tr>\n",
       "    <tr>\n",
       "      <th>(61560.2, 68400.0]</th>\n",
       "      <td>0</td>\n",
       "      <td>0</td>\n",
       "      <td>1</td>\n",
       "      <td>History</td>\n",
       "      <td>Sport</td>\n",
       "      <td>Documentary</td>\n",
       "    </tr>\n",
       "  </tbody>\n",
       "</table>\n",
       "</div>"
      ],
      "text/plain": [
       "                      sum    sum  count Top_1_genre Top_2_genre  Top_3_genre\n",
       "duration_deciles                                                            \n",
       "(-66.398, 6841.8]   26294  42727  10813      Comedy       Drama        Crime\n",
       "(6841.8, 13681.6]   18534  22864   2841       Drama      Action       Comedy\n",
       "(13681.6, 20521.4]    196    191     51       Drama     History  Documentary\n",
       "(20521.4, 27361.2]     74     84     23       Drama     History  Documentary\n",
       "(27361.2, 34201.0]     56     50      7       Drama     History      Romance\n",
       "(34201.0, 41040.8]      6      5      3       Drama     History     Thriller\n",
       "(41040.8, 47880.6]     22     20      4     History       Drama  Documentary\n",
       "(47880.6, 54720.4]     12     19      2       Drama       SciFi       Action\n",
       "(54720.4, 61560.2]      0      0      0      Action    Thriller     TalkShow\n",
       "(61560.2, 68400.0]      0      0      1     History       Sport  Documentary"
      ]
     },
     "execution_count": 10,
     "metadata": {},
     "output_type": "execute_result"
    }
   ],
   "source": [
    "df7"
   ]
  },
  {
   "cell_type": "code",
   "execution_count": null,
   "metadata": {},
   "outputs": [],
   "source": []
  }
 ],
 "metadata": {
  "kernelspec": {
   "display_name": "Python 3",
   "language": "python",
   "name": "python3"
  },
  "language_info": {
   "codemirror_mode": {
    "name": "ipython",
    "version": 3
   },
   "file_extension": ".py",
   "mimetype": "text/x-python",
   "name": "python",
   "nbconvert_exporter": "python",
   "pygments_lexer": "ipython3",
   "version": "3.7.6"
  }
 },
 "nbformat": 4,
 "nbformat_minor": 2
}
