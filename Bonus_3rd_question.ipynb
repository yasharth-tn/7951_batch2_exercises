{
 "cells": [
  {
   "cell_type": "code",
   "execution_count": 1,
   "metadata": {},
   "outputs": [],
   "source": [
    "import numpy as np\n",
    "import pandas as pd"
   ]
  },
  {
   "cell_type": "code",
   "execution_count": 3,
   "metadata": {},
   "outputs": [],
   "source": [
    "df = pd.read_csv(r'C:\\Users\\yasharth.tandon\\Desktop\\Tiger\\diamonds.csv',escapechar='\\\\')"
   ]
  },
  {
   "cell_type": "code",
   "execution_count": 4,
   "metadata": {},
   "outputs": [
    {
     "name": "stderr",
     "output_type": "stream",
     "text": [
      "c:\\users\\yasharth.tandon\\.conda\\envs\\tigerml\\lib\\site-packages\\ipykernel_launcher.py:2: SettingWithCopyWarning: \n",
      "A value is trying to be set on a copy of a slice from a DataFrame.\n",
      "Try using .loc[row_indexer,col_indexer] = value instead\n",
      "\n",
      "See the caveats in the documentation: http://pandas.pydata.org/pandas-docs/stable/user_guide/indexing.html#returning-a-view-versus-a-copy\n",
      "  \n"
     ]
    }
   ],
   "source": [
    "df1=df[df['z']!='None']\n",
    "df1['vol']=np.where(df1['depth']>60,df1['x']*df1['y']*pd.to_numeric(df1['z']),8)"
   ]
  },
  {
   "cell_type": "code",
   "execution_count": 5,
   "metadata": {},
   "outputs": [
    {
     "name": "stderr",
     "output_type": "stream",
     "text": [
      "c:\\users\\yasharth.tandon\\.conda\\envs\\tigerml\\lib\\site-packages\\ipykernel_launcher.py:1: SettingWithCopyWarning: \n",
      "A value is trying to be set on a copy of a slice from a DataFrame.\n",
      "Try using .loc[row_indexer,col_indexer] = value instead\n",
      "\n",
      "See the caveats in the documentation: http://pandas.pydata.org/pandas-docs/stable/user_guide/indexing.html#returning-a-view-versus-a-copy\n",
      "  \"\"\"Entry point for launching an IPython kernel.\n"
     ]
    }
   ],
   "source": [
    "df1['equal_bins']=pd.qcut(df1['vol'],q=4)"
   ]
  },
  {
   "cell_type": "code",
   "execution_count": 6,
   "metadata": {},
   "outputs": [],
   "source": [
    "df5=pd.crosstab(df1.equal_bins,df1.cut,margins=True)"
   ]
  },
  {
   "cell_type": "code",
   "execution_count": 7,
   "metadata": {},
   "outputs": [],
   "source": [
    "x2=df5['All'].iloc[-1]"
   ]
  },
  {
   "cell_type": "code",
   "execution_count": 8,
   "metadata": {},
   "outputs": [
    {
     "data": {
      "text/html": [
       "<div>\n",
       "<style scoped>\n",
       "    .dataframe tbody tr th:only-of-type {\n",
       "        vertical-align: middle;\n",
       "    }\n",
       "\n",
       "    .dataframe tbody tr th {\n",
       "        vertical-align: top;\n",
       "    }\n",
       "\n",
       "    .dataframe thead th {\n",
       "        text-align: right;\n",
       "    }\n",
       "</style>\n",
       "<table border=\"1\" class=\"dataframe\">\n",
       "  <thead>\n",
       "    <tr style=\"text-align: right;\">\n",
       "      <th>cut</th>\n",
       "      <th>Fair</th>\n",
       "      <th>Good</th>\n",
       "      <th>Ideal</th>\n",
       "      <th>Premium</th>\n",
       "      <th>Very Good</th>\n",
       "      <th>All</th>\n",
       "    </tr>\n",
       "    <tr>\n",
       "      <th>equal_bins</th>\n",
       "      <th></th>\n",
       "      <th></th>\n",
       "      <th></th>\n",
       "      <th></th>\n",
       "      <th></th>\n",
       "      <th></th>\n",
       "    </tr>\n",
       "  </thead>\n",
       "  <tbody>\n",
       "    <tr>\n",
       "      <th>(-0.001, 53.771]</th>\n",
       "      <td>0.533956</td>\n",
       "      <td>2.706862</td>\n",
       "      <td>8.228118</td>\n",
       "      <td>7.252906</td>\n",
       "      <td>6.279548</td>\n",
       "      <td>25.001391</td>\n",
       "    </tr>\n",
       "    <tr>\n",
       "      <th>(53.771, 92.862]</th>\n",
       "      <td>0.287372</td>\n",
       "      <td>1.644511</td>\n",
       "      <td>13.654820</td>\n",
       "      <td>5.091125</td>\n",
       "      <td>4.319855</td>\n",
       "      <td>24.997682</td>\n",
       "    </tr>\n",
       "    <tr>\n",
       "      <th>(92.862, 165.107]</th>\n",
       "      <td>1.401635</td>\n",
       "      <td>3.125869</td>\n",
       "      <td>8.331943</td>\n",
       "      <td>5.417431</td>\n",
       "      <td>6.724512</td>\n",
       "      <td>25.001391</td>\n",
       "    </tr>\n",
       "    <tr>\n",
       "      <th>(165.107, 838.502]</th>\n",
       "      <td>0.762000</td>\n",
       "      <td>1.616701</td>\n",
       "      <td>9.737286</td>\n",
       "      <td>7.807257</td>\n",
       "      <td>5.076293</td>\n",
       "      <td>24.999536</td>\n",
       "    </tr>\n",
       "    <tr>\n",
       "      <th>All</th>\n",
       "      <td>2.984964</td>\n",
       "      <td>9.093943</td>\n",
       "      <td>39.952166</td>\n",
       "      <td>25.568719</td>\n",
       "      <td>22.400208</td>\n",
       "      <td>100.000000</td>\n",
       "    </tr>\n",
       "  </tbody>\n",
       "</table>\n",
       "</div>"
      ],
      "text/plain": [
       "cut                     Fair      Good      Ideal    Premium  Very Good  \\\n",
       "equal_bins                                                                \n",
       "(-0.001, 53.771]    0.533956  2.706862   8.228118   7.252906   6.279548   \n",
       "(53.771, 92.862]    0.287372  1.644511  13.654820   5.091125   4.319855   \n",
       "(92.862, 165.107]   1.401635  3.125869   8.331943   5.417431   6.724512   \n",
       "(165.107, 838.502]  0.762000  1.616701   9.737286   7.807257   5.076293   \n",
       "All                 2.984964  9.093943  39.952166  25.568719  22.400208   \n",
       "\n",
       "cut                        All  \n",
       "equal_bins                      \n",
       "(-0.001, 53.771]     25.001391  \n",
       "(53.771, 92.862]     24.997682  \n",
       "(92.862, 165.107]    25.001391  \n",
       "(165.107, 838.502]   24.999536  \n",
       "All                 100.000000  "
      ]
     },
     "execution_count": 8,
     "metadata": {},
     "output_type": "execute_result"
    }
   ],
   "source": [
    "df5.apply(lambda x: (x*100)/x2,axis=1)"
   ]
  },
  {
   "cell_type": "code",
   "execution_count": null,
   "metadata": {},
   "outputs": [],
   "source": []
  }
 ],
 "metadata": {
  "kernelspec": {
   "display_name": "Python 3",
   "language": "python",
   "name": "python3"
  },
  "language_info": {
   "codemirror_mode": {
    "name": "ipython",
    "version": 3
   },
   "file_extension": ".py",
   "mimetype": "text/x-python",
   "name": "python",
   "nbconvert_exporter": "python",
   "pygments_lexer": "ipython3",
   "version": "3.7.6"
  }
 },
 "nbformat": 4,
 "nbformat_minor": 2
}
